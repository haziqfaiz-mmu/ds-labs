{
 "cells": [
  {
   "cell_type": "markdown",
   "id": "f07c3c44",
   "metadata": {},
   "source": [
    "# **<span style=\"font-family:Papyrus; font-size:4em;\">Lab submition</span>** (Lab 03)"
   ]
  },
  {
   "cell_type": "code",
   "execution_count": null,
   "id": "fe3f55b0",
   "metadata": {},
   "outputs": [],
   "source": [
    "name = \"Muhammad Haziq Faiz Bin Mohd Ripin\"\n",
    "sid  = \"1201302740\""
   ]
  },
  {
   "cell_type": "markdown",
   "id": "054e5647",
   "metadata": {},
   "source": [
    "<font size=\"4\" color=\"Blue\">  Given the Covid-19 data set in csv format, write your python code using pandas and numpy to answer the follwoing 5 questions.\n",
    "[Download data](./coviddata.csv)"
   ]
  },
  {
   "cell_type": "markdown",
   "id": "1278f6ac",
   "metadata": {},
   "source": [
    "> *The covid data set is taken from https://www.ecdc.europa.eu/en/publications-data/download-todays-data-geographic-distribution-covid-19-cases-worldwide.*"
   ]
  },
  {
   "cell_type": "markdown",
   "id": "acce2bb9",
   "metadata": {},
   "source": [
    "<font size=\"4\" color=\"Green\">\n",
    "1. Display the countries and their total Covid cases sorted in ascending order? \n",
    "\n",
    "A country is displayed only once."
   ]
  },
  {
   "cell_type": "code",
   "execution_count": 44,
   "id": "a8e16bb6",
   "metadata": {},
   "outputs": [
    {
     "data": {
      "text/html": [
       "<div>\n",
       "<style scoped>\n",
       "    .dataframe tbody tr th:only-of-type {\n",
       "        vertical-align: middle;\n",
       "    }\n",
       "\n",
       "    .dataframe tbody tr th {\n",
       "        vertical-align: top;\n",
       "    }\n",
       "\n",
       "    .dataframe thead th {\n",
       "        text-align: right;\n",
       "    }\n",
       "</style>\n",
       "<table border=\"1\" class=\"dataframe\">\n",
       "  <thead>\n",
       "    <tr style=\"text-align: right;\">\n",
       "      <th></th>\n",
       "      <th>cases</th>\n",
       "    </tr>\n",
       "    <tr>\n",
       "      <th>countriesAndTerritories</th>\n",
       "      <th></th>\n",
       "    </tr>\n",
       "  </thead>\n",
       "  <tbody>\n",
       "    <tr>\n",
       "      <th>Vanuatu</th>\n",
       "      <td>1</td>\n",
       "    </tr>\n",
       "    <tr>\n",
       "      <th>Wallis_and_Futuna</th>\n",
       "      <td>3</td>\n",
       "    </tr>\n",
       "    <tr>\n",
       "      <th>Marshall_Islands</th>\n",
       "      <td>4</td>\n",
       "    </tr>\n",
       "    <tr>\n",
       "      <th>Anguilla</th>\n",
       "      <td>10</td>\n",
       "    </tr>\n",
       "    <tr>\n",
       "      <th>Montserrat</th>\n",
       "      <td>13</td>\n",
       "    </tr>\n",
       "    <tr>\n",
       "      <th>...</th>\n",
       "      <td>...</td>\n",
       "    </tr>\n",
       "    <tr>\n",
       "      <th>France</th>\n",
       "      <td>2376852</td>\n",
       "    </tr>\n",
       "    <tr>\n",
       "      <th>Russia</th>\n",
       "      <td>2653928</td>\n",
       "    </tr>\n",
       "    <tr>\n",
       "      <th>Brazil</th>\n",
       "      <td>6901952</td>\n",
       "    </tr>\n",
       "    <tr>\n",
       "      <th>India</th>\n",
       "      <td>9884100</td>\n",
       "    </tr>\n",
       "    <tr>\n",
       "      <th>United_States_of_America</th>\n",
       "      <td>16256754</td>\n",
       "    </tr>\n",
       "  </tbody>\n",
       "</table>\n",
       "<p>214 rows × 1 columns</p>\n",
       "</div>"
      ],
      "text/plain": [
       "                             cases\n",
       "countriesAndTerritories           \n",
       "Vanuatu                          1\n",
       "Wallis_and_Futuna                3\n",
       "Marshall_Islands                 4\n",
       "Anguilla                        10\n",
       "Montserrat                      13\n",
       "...                            ...\n",
       "France                     2376852\n",
       "Russia                     2653928\n",
       "Brazil                     6901952\n",
       "India                      9884100\n",
       "United_States_of_America  16256754\n",
       "\n",
       "[214 rows x 1 columns]"
      ]
     },
     "execution_count": 44,
     "metadata": {},
     "output_type": "execute_result"
    }
   ],
   "source": [
    "import numpy as np\n",
    "import pandas as pd\n",
    "\n",
    "df = pd.read_csv(\"coviddata.csv\")\n",
    "\n",
    "df.groupby([\"countriesAndTerritories\"]).sum()[[\"cases\"]].sort_values(\"cases\",ascending=True)"
   ]
  },
  {
   "cell_type": "markdown",
   "id": "fac470bf",
   "metadata": {},
   "source": [
    "<font size=\"4\" color=\"Green\">\n",
    "2. For each country, identify the month with most infections?\n",
    "    \n",
    "\n",
    "The table should have the country name and the month with most infections, and the year of that month."
   ]
  },
  {
   "cell_type": "code",
   "execution_count": 43,
   "id": "fd686442",
   "metadata": {},
   "outputs": [
    {
     "data": {
      "text/html": [
       "<div>\n",
       "<style scoped>\n",
       "    .dataframe tbody tr th:only-of-type {\n",
       "        vertical-align: middle;\n",
       "    }\n",
       "\n",
       "    .dataframe tbody tr th {\n",
       "        vertical-align: top;\n",
       "    }\n",
       "\n",
       "    .dataframe thead th {\n",
       "        text-align: right;\n",
       "    }\n",
       "</style>\n",
       "<table border=\"1\" class=\"dataframe\">\n",
       "  <thead>\n",
       "    <tr style=\"text-align: right;\">\n",
       "      <th></th>\n",
       "      <th>countriesAndTerritories</th>\n",
       "      <th>year</th>\n",
       "      <th>month</th>\n",
       "      <th>casesByMonth</th>\n",
       "    </tr>\n",
       "  </thead>\n",
       "  <tbody>\n",
       "    <tr>\n",
       "      <th>6</th>\n",
       "      <td>Afghanistan</td>\n",
       "      <td>2020</td>\n",
       "      <td>6</td>\n",
       "      <td>16713</td>\n",
       "    </tr>\n",
       "    <tr>\n",
       "      <th>21</th>\n",
       "      <td>Albania</td>\n",
       "      <td>2020</td>\n",
       "      <td>11</td>\n",
       "      <td>16991</td>\n",
       "    </tr>\n",
       "    <tr>\n",
       "      <th>34</th>\n",
       "      <td>Algeria</td>\n",
       "      <td>2020</td>\n",
       "      <td>11</td>\n",
       "      <td>24570</td>\n",
       "    </tr>\n",
       "    <tr>\n",
       "      <th>43</th>\n",
       "      <td>Andorra</td>\n",
       "      <td>2020</td>\n",
       "      <td>10</td>\n",
       "      <td>2699</td>\n",
       "    </tr>\n",
       "    <tr>\n",
       "      <th>53</th>\n",
       "      <td>Angola</td>\n",
       "      <td>2020</td>\n",
       "      <td>10</td>\n",
       "      <td>5364</td>\n",
       "    </tr>\n",
       "    <tr>\n",
       "      <th>...</th>\n",
       "      <td>...</td>\n",
       "      <td>...</td>\n",
       "      <td>...</td>\n",
       "      <td>...</td>\n",
       "    </tr>\n",
       "    <tr>\n",
       "      <th>2247</th>\n",
       "      <td>Wallis_and_Futuna</td>\n",
       "      <td>2020</td>\n",
       "      <td>11</td>\n",
       "      <td>2</td>\n",
       "    </tr>\n",
       "    <tr>\n",
       "      <th>2252</th>\n",
       "      <td>Western_Sahara</td>\n",
       "      <td>2020</td>\n",
       "      <td>7</td>\n",
       "      <td>558</td>\n",
       "    </tr>\n",
       "    <tr>\n",
       "      <th>2260</th>\n",
       "      <td>Yemen</td>\n",
       "      <td>2020</td>\n",
       "      <td>6</td>\n",
       "      <td>818</td>\n",
       "    </tr>\n",
       "    <tr>\n",
       "      <th>2272</th>\n",
       "      <td>Zambia</td>\n",
       "      <td>2020</td>\n",
       "      <td>8</td>\n",
       "      <td>6470</td>\n",
       "    </tr>\n",
       "    <tr>\n",
       "      <th>2282</th>\n",
       "      <td>Zimbabwe</td>\n",
       "      <td>2020</td>\n",
       "      <td>8</td>\n",
       "      <td>3320</td>\n",
       "    </tr>\n",
       "  </tbody>\n",
       "</table>\n",
       "<p>214 rows × 4 columns</p>\n",
       "</div>"
      ],
      "text/plain": [
       "     countriesAndTerritories  year  month  casesByMonth\n",
       "6                Afghanistan  2020      6         16713\n",
       "21                   Albania  2020     11         16991\n",
       "34                   Algeria  2020     11         24570\n",
       "43                   Andorra  2020     10          2699\n",
       "53                    Angola  2020     10          5364\n",
       "...                      ...   ...    ...           ...\n",
       "2247       Wallis_and_Futuna  2020     11             2\n",
       "2252          Western_Sahara  2020      7           558\n",
       "2260                   Yemen  2020      6           818\n",
       "2272                  Zambia  2020      8          6470\n",
       "2282                Zimbabwe  2020      8          3320\n",
       "\n",
       "[214 rows x 4 columns]"
      ]
     },
     "execution_count": 43,
     "metadata": {},
     "output_type": "execute_result"
    }
   ],
   "source": [
    "#Group by countries, year and month. Then find the sum of cases for every month. Store it in a new column\n",
    "cases = df.groupby([\"countriesAndTerritories\",\"year\",\"month\"])[\"cases\"].sum().rename(\"casesByMonth\").reset_index()\n",
    "\n",
    "#Get a list of unique countries from the dataset\n",
    "countries = df[\"countriesAndTerritories\"].unique().tolist()\n",
    "\n",
    "#Create an empty DataFrame\n",
    "df2b = pd.DataFrame()\n",
    "\n",
    "#Find the month with the highest number of cases for each couuntry and store it in df2b\n",
    "for country in countries:\n",
    "    temp=cases[cases.countriesAndTerritories == country]\n",
    "    temp=temp[temp.casesByMonth == temp.casesByMonth.max()]\n",
    "    temp.reset_index\n",
    "    df2b=df2b.append(temp)\n",
    "df2b"
   ]
  },
  {
   "cell_type": "markdown",
   "id": "50354078",
   "metadata": {},
   "source": [
    "<font size=\"4\" color=\"Green\">\n",
    "3. Sort countries in ascending order according to their total death to to total infections ratio.\n",
    "\n",
    "Each country is listed once."
   ]
  },
  {
   "cell_type": "code",
   "execution_count": 37,
   "id": "175ac5a7",
   "metadata": {},
   "outputs": [
    {
     "data": {
      "text/html": [
       "<div>\n",
       "<style scoped>\n",
       "    .dataframe tbody tr th:only-of-type {\n",
       "        vertical-align: middle;\n",
       "    }\n",
       "\n",
       "    .dataframe tbody tr th {\n",
       "        vertical-align: top;\n",
       "    }\n",
       "\n",
       "    .dataframe thead th {\n",
       "        text-align: right;\n",
       "    }\n",
       "</style>\n",
       "<table border=\"1\" class=\"dataframe\">\n",
       "  <thead>\n",
       "    <tr style=\"text-align: right;\">\n",
       "      <th></th>\n",
       "      <th>ratio</th>\n",
       "    </tr>\n",
       "    <tr>\n",
       "      <th>countriesAndTerritories</th>\n",
       "      <th></th>\n",
       "    </tr>\n",
       "  </thead>\n",
       "  <tbody>\n",
       "    <tr>\n",
       "      <th>Seychelles</th>\n",
       "      <td>0.000000</td>\n",
       "    </tr>\n",
       "    <tr>\n",
       "      <th>Bhutan</th>\n",
       "      <td>0.000000</td>\n",
       "    </tr>\n",
       "    <tr>\n",
       "      <th>Cambodia</th>\n",
       "      <td>0.000000</td>\n",
       "    </tr>\n",
       "    <tr>\n",
       "      <th>Dominica</th>\n",
       "      <td>0.000000</td>\n",
       "    </tr>\n",
       "    <tr>\n",
       "      <th>Eritrea</th>\n",
       "      <td>0.000000</td>\n",
       "    </tr>\n",
       "    <tr>\n",
       "      <th>...</th>\n",
       "      <td>...</td>\n",
       "    </tr>\n",
       "    <tr>\n",
       "      <th>Isle_of_Man</th>\n",
       "      <td>0.067568</td>\n",
       "    </tr>\n",
       "    <tr>\n",
       "      <th>Ecuador</th>\n",
       "      <td>0.068651</td>\n",
       "    </tr>\n",
       "    <tr>\n",
       "      <th>Montserrat</th>\n",
       "      <td>0.076923</td>\n",
       "    </tr>\n",
       "    <tr>\n",
       "      <th>Mexico</th>\n",
       "      <td>0.091159</td>\n",
       "    </tr>\n",
       "    <tr>\n",
       "      <th>Yemen</th>\n",
       "      <td>0.290927</td>\n",
       "    </tr>\n",
       "  </tbody>\n",
       "</table>\n",
       "<p>214 rows × 1 columns</p>\n",
       "</div>"
      ],
      "text/plain": [
       "                            ratio\n",
       "countriesAndTerritories          \n",
       "Seychelles               0.000000\n",
       "Bhutan                   0.000000\n",
       "Cambodia                 0.000000\n",
       "Dominica                 0.000000\n",
       "Eritrea                  0.000000\n",
       "...                           ...\n",
       "Isle_of_Man              0.067568\n",
       "Ecuador                  0.068651\n",
       "Montserrat               0.076923\n",
       "Mexico                   0.091159\n",
       "Yemen                    0.290927\n",
       "\n",
       "[214 rows x 1 columns]"
      ]
     },
     "execution_count": 37,
     "metadata": {},
     "output_type": "execute_result"
    }
   ],
   "source": [
    "df3=df.groupby(\"countriesAndTerritories\").sum()\n",
    "df3[\"ratio\"]=df3[\"deaths\"]/df3[\"cases\"]\n",
    "\n",
    "df3[[\"ratio\"]].sort_values(\"ratio\",ascending=True)"
   ]
  },
  {
   "cell_type": "markdown",
   "id": "69342e3b",
   "metadata": {},
   "source": [
    "<font size=\"4\" color=\"Green\">\n",
    "4. Display the total infections per continent sorted in ascending order."
   ]
  },
  {
   "cell_type": "code",
   "execution_count": 162,
   "id": "9b28eae1",
   "metadata": {},
   "outputs": [
    {
     "data": {
      "text/html": [
       "<div>\n",
       "<style scoped>\n",
       "    .dataframe tbody tr th:only-of-type {\n",
       "        vertical-align: middle;\n",
       "    }\n",
       "\n",
       "    .dataframe tbody tr th {\n",
       "        vertical-align: top;\n",
       "    }\n",
       "\n",
       "    .dataframe thead th {\n",
       "        text-align: right;\n",
       "    }\n",
       "</style>\n",
       "<table border=\"1\" class=\"dataframe\">\n",
       "  <thead>\n",
       "    <tr style=\"text-align: right;\">\n",
       "      <th></th>\n",
       "      <th>cases</th>\n",
       "    </tr>\n",
       "    <tr>\n",
       "      <th>continentExp</th>\n",
       "      <th></th>\n",
       "    </tr>\n",
       "  </thead>\n",
       "  <tbody>\n",
       "    <tr>\n",
       "      <th>Other</th>\n",
       "      <td>696</td>\n",
       "    </tr>\n",
       "    <tr>\n",
       "      <th>Oceania</th>\n",
       "      <td>53440</td>\n",
       "    </tr>\n",
       "    <tr>\n",
       "      <th>Africa</th>\n",
       "      <td>2379827</td>\n",
       "    </tr>\n",
       "    <tr>\n",
       "      <th>Asia</th>\n",
       "      <td>16782046</td>\n",
       "    </tr>\n",
       "    <tr>\n",
       "      <th>Europe</th>\n",
       "      <td>21400012</td>\n",
       "    </tr>\n",
       "    <tr>\n",
       "      <th>America</th>\n",
       "      <td>30887593</td>\n",
       "    </tr>\n",
       "  </tbody>\n",
       "</table>\n",
       "</div>"
      ],
      "text/plain": [
       "                 cases\n",
       "continentExp          \n",
       "Other              696\n",
       "Oceania          53440\n",
       "Africa         2379827\n",
       "Asia          16782046\n",
       "Europe        21400012\n",
       "America       30887593"
      ]
     },
     "execution_count": 162,
     "metadata": {},
     "output_type": "execute_result"
    }
   ],
   "source": [
    "df4 = df.groupby(\"continentExp\").sum()[[\"cases\"]].sort_values(\"cases\")\n",
    "df4"
   ]
  },
  {
   "cell_type": "markdown",
   "id": "9e52b82c",
   "metadata": {},
   "source": [
    "<font size=\"4\" color=\"Green\">\n",
    "5. Plot a graph with two line charts showing the total infections and total death for all the continents."
   ]
  },
  {
   "cell_type": "code",
   "execution_count": 39,
   "id": "57fcf9b5",
   "metadata": {},
   "outputs": [
    {
     "data": {
      "text/plain": [
       "<AxesSubplot:xlabel='continentExp'>"
      ]
     },
     "execution_count": 39,
     "metadata": {},
     "output_type": "execute_result"
    },
    {
     "data": {
      "image/png": "[encoded data removed]",
      "text/plain": [
       "<Figure size 432x288 with 1 Axes>"
      ]
     },
     "metadata": {
      "needs_background": "light"
     },
     "output_type": "display_data"
    }
   ],
   "source": [
    "import seaborn as sns\n",
    "#import matplotlib.pyplot as plt\n",
    "df5 = df.groupby(\"continentExp\").sum()\n",
    "#df5[[\"cases\",\"deaths\"]].plot()\n",
    "\n",
    "sns.lineplot(data=df5[[\"cases\",\"deaths\"]])"
   ]
  }
 ],
 "metadata": {
  "kernelspec": {
   "display_name": "Python 3 (ipykernel)",
   "language": "python",
   "name": "python3"
  },
  "language_info": {
   "codemirror_mode": {
    "name": "ipython",
    "version": 3
   },
   "file_extension": ".py",
   "mimetype": "text/x-python",
   "name": "python",
   "nbconvert_exporter": "python",
   "pygments_lexer": "ipython3",
   "version": "3.9.7"
  }
 },
 "nbformat": 4,
 "nbformat_minor": 5
}
