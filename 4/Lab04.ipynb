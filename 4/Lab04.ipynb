{
 "cells": [
  {
   "cell_type": "markdown",
   "id": "3d3f0a75",
   "metadata": {},
   "source": [
    "# Lab 4"
   ]
  },
  {
   "cell_type": "markdown",
   "id": "01bb144f",
   "metadata": {},
   "source": [
    "For this Lab you'll be looking at 2017 data on immunizations from the CDC (USA). \n",
    "\n",
    "Your datafile for this Lab is in [NISPUF17.csv](NISPUF17.csv). \n",
    "\n",
    "A data users guide for this, which you'll need to map the variables in the data to the questions being asked, is available at [NIS-PUF17-DUG.pdf](NIS-PUF17-DUG.pdf).\n",
    "\n",
    "Refer to the pdf document for the meaning of column titles.\n",
    "\n",
    "Write sufficient Python code using pandas and numpy to answer all the following questions.\n",
    "You might be required to drop some of the rows when answering the questions.\n",
    "\n",
    "> *adopted from coursera data science course.*\n"
   ]
  },
  {
   "cell_type": "markdown",
   "id": "7f4b949a",
   "metadata": {},
   "source": [
    "## Question 0\n",
    "\n",
    "0.  Import the pandas and numpy libraries\n",
    "1.  Read the csv file and store it in data (a dataframe).\n",
    "2.  Explore the data in the csv file.\n",
    "3.  Drop any extra index generated.\n",
    "4.  Scan through the 4 questions below and identify the names of variables required to solve the questions."
   ]
  },
  {
   "cell_type": "code",
   "execution_count": 18,
   "id": "ce8a3b71",
   "metadata": {},
   "outputs": [
    {
     "data": {
      "text/html": [
       "<div>\n",
       "<style scoped>\n",
       "    .dataframe tbody tr th:only-of-type {\n",
       "        vertical-align: middle;\n",
       "    }\n",
       "\n",
       "    .dataframe tbody tr th {\n",
       "        vertical-align: top;\n",
       "    }\n",
       "\n",
       "    .dataframe thead th {\n",
       "        text-align: right;\n",
       "    }\n",
       "</style>\n",
       "<table border=\"1\" class=\"dataframe\">\n",
       "  <thead>\n",
       "    <tr style=\"text-align: right;\">\n",
       "      <th></th>\n",
       "      <th>EDUC1</th>\n",
       "    </tr>\n",
       "  </thead>\n",
       "  <tbody>\n",
       "    <tr>\n",
       "      <th>0</th>\n",
       "      <td>4</td>\n",
       "    </tr>\n",
       "    <tr>\n",
       "      <th>1</th>\n",
       "      <td>3</td>\n",
       "    </tr>\n",
       "    <tr>\n",
       "      <th>2</th>\n",
       "      <td>3</td>\n",
       "    </tr>\n",
       "    <tr>\n",
       "      <th>3</th>\n",
       "      <td>4</td>\n",
       "    </tr>\n",
       "    <tr>\n",
       "      <th>4</th>\n",
       "      <td>1</td>\n",
       "    </tr>\n",
       "    <tr>\n",
       "      <th>...</th>\n",
       "      <td>...</td>\n",
       "    </tr>\n",
       "    <tr>\n",
       "      <th>28460</th>\n",
       "      <td>3</td>\n",
       "    </tr>\n",
       "    <tr>\n",
       "      <th>28461</th>\n",
       "      <td>2</td>\n",
       "    </tr>\n",
       "    <tr>\n",
       "      <th>28462</th>\n",
       "      <td>3</td>\n",
       "    </tr>\n",
       "    <tr>\n",
       "      <th>28463</th>\n",
       "      <td>2</td>\n",
       "    </tr>\n",
       "    <tr>\n",
       "      <th>28464</th>\n",
       "      <td>4</td>\n",
       "    </tr>\n",
       "  </tbody>\n",
       "</table>\n",
       "<p>28465 rows × 1 columns</p>\n",
       "</div>"
      ],
      "text/plain": [
       "       EDUC1\n",
       "0          4\n",
       "1          3\n",
       "2          3\n",
       "3          4\n",
       "4          1\n",
       "...      ...\n",
       "28460      3\n",
       "28461      2\n",
       "28462      3\n",
       "28463      2\n",
       "28464      4\n",
       "\n",
       "[28465 rows x 1 columns]"
      ]
     },
     "execution_count": 18,
     "metadata": {},
     "output_type": "execute_result"
    }
   ],
   "source": [
    "import pandas as pd\n",
    "import numpy as np\n",
    "\n",
    "df = pd.read_csv(\"NISPUF17.csv\")\n",
    "df=df.drop([\"Unnamed: 0\"],axis=1)\n",
    "df[[\"EDUC1\"]]"
   ]
  },
  {
   "cell_type": "markdown",
   "id": "cb55821c",
   "metadata": {},
   "source": [
    "## Question 1\n",
    "Write a function called `proportion_of_education` which returns the proportion of children in the dataset who had a mother with the education levels equal to less than high school (<12), high school (12), more than high school but not a college graduate (>12) and college degree.\n",
    "\n",
    "*This function should return a dictionary in the form of (use the correct numbers, do not round numbers):* \n",
    "```\n",
    "    {\"less than high school\":0.2,\n",
    "    \"high school\":0.4,\n",
    "    \"more than high school but not college\":0.2,\n",
    "    \"college\":0.2}\n",
    "```\n"
   ]
  },
  {
   "cell_type": "markdown",
   "id": "fb73254b",
   "metadata": {},
   "source": [
    "<font size=3 color='RED'>\n",
    "{'less than high school': 0.10202002459160373,\n",
    " 'high school': 0.172352011241876,\n",
    " 'more than high school but not college': 0.24588090637625154,\n",
    " 'college': 0.47974705779026877}\n",
    "</font>"
   ]
  },
  {
   "cell_type": "code",
   "execution_count": 39,
   "id": "8bccd87c",
   "metadata": {},
   "outputs": [
    {
     "data": {
      "text/plain": [
       "{'less than high school': EDUC1    0.10202\n",
       " dtype: float64,\n",
       " 'high school': EDUC1    0.172352\n",
       " dtype: float64,\n",
       " 'more than high school but not college': EDUC1    0.245881\n",
       " dtype: float64,\n",
       " 'college': EDUC1    0.479747\n",
       " dtype: float64}"
      ]
     },
     "execution_count": 39,
     "metadata": {},
     "output_type": "execute_result"
    }
   ],
   "source": [
    "def proportion_of_education():\n",
    "    \n",
    "    dictionary ={}\n",
    "    total = df[[\"EDUC1\"]].count()\n",
    "    dictionary[\"less than high school\"] = len(df[df[\"EDUC1\"]==1])/total\n",
    "    dictionary[\"high school\"] = len(df[df[\"EDUC1\"]==2])/total\n",
    "    dictionary[\"more than high school but not college\"] = len(df[df[\"EDUC1\"]==3])/total\n",
    "    dictionary[\"college\"] = len(df[df[\"EDUC1\"]==4])/total\n",
    "    return dictionary\n",
    "\n",
    "final = proportion_of_education()\n",
    "final"
   ]
  },
  {
   "cell_type": "markdown",
   "id": "55c4256e",
   "metadata": {},
   "source": [
    "## Question 2\n",
    "\n",
    "Let's explore the relationship between being fed breastmilk as a child and getting a seasonal influenza vaccine from a healthcare provider. Return a tuple of the average number of influenza vaccines for those children we know received breastmilk as a child and those who know did not.\n",
    "\n",
    "*This function should return a tuple in the form (use the correct numbers:*\n",
    "```\n",
    "(2.5, 0.1)\n",
    "```"
   ]
  },
  {
   "cell_type": "markdown",
   "id": "e64a7573",
   "metadata": {},
   "source": [
    "<font size=3 color='RED'>\n",
    "(1.8799187420058687, 1.5963945918878317)\n",
    "    </font>"
   ]
  },
  {
   "cell_type": "code",
   "execution_count": 8,
   "id": "df63ae3d",
   "metadata": {},
   "outputs": [],
   "source": [
    "def average_influenza_doses():\n",
    "    pass\n",
    "\n",
    "    # YOUR CODE HERE\n",
    "    #raise NotImplementedError()"
   ]
  },
  {
   "cell_type": "markdown",
   "id": "5187c417",
   "metadata": {},
   "source": [
    "## Question 3\n",
    "It would be interesting to see if there is any evidence of a link between vaccine effectiveness and sex of the child. Calculate the ratio of the number of children who contracted chickenpox but were vaccinated against it (at least one varicella dose) versus those who were vaccinated but did not contract chicken pox. Return results by sex. \n",
    "\n",
    "*This function should return a dictionary in the form of (use the correct numbers):* \n",
    "```\n",
    "    {\"male\":0.2,\n",
    "    \"female\":0.4}\n",
    "```\n",
    "\n",
    "Note: To aid in verification, the `chickenpox_by_sex()['female']` value the autograder is looking for starts with the digits `0.0077`."
   ]
  },
  {
   "cell_type": "markdown",
   "id": "0051ca8d",
   "metadata": {},
   "source": [
    "<font size=3 color='RED'>\n",
    "{'male': 0.009675583380762664, 'female': 0.0077918259335489565}\n",
    "</font>"
   ]
  },
  {
   "cell_type": "code",
   "execution_count": 9,
   "id": "ea0a5f5b",
   "metadata": {},
   "outputs": [],
   "source": [
    "def chickenpox_by_sex():\n",
    "    pass\n",
    "\n",
    "    # YOUR CODE HERE\n",
    "    #raise NotImplementedError()"
   ]
  },
  {
   "cell_type": "markdown",
   "id": "a8f89e81",
   "metadata": {},
   "source": [
    "## Question 4\n",
    "A correlation is a statistical relationship between two variables. If we wanted to know if vaccines work, we might look at the correlation between the use of the vaccine and whether it results in prevention of the infection or disease [1]. In this question, you are to see if there is a correlation between having had the chicken pox and the number of chickenpox vaccine doses given (varicella).\n",
    "\n",
    "Some notes on interpreting the answer. The `had_chickenpox_column` is either `1` (for yes) or `2` (for no), and the `num_chickenpox_vaccine_column` is the number of doses a child has been given of the varicella vaccine. A positive correlation (e.g., `corr > 0`) means that an increase in `had_chickenpox_column` (which means more no’s) would also increase the values of `num_chickenpox_vaccine_column` (which means more doses of vaccine). If there is a negative correlation (e.g., `corr < 0`), it indicates that having had chickenpox is related to an increase in the number of vaccine doses.\n",
    "\n",
    "Also, `pval` is the probability that we observe a correlation between `had_chickenpox_column` and `num_chickenpox_vaccine_column` which is greater than or equal to a particular value occurred by chance. A small `pval` means that the observed correlation is highly unlikely to occur by chance. In this case, `pval` should be very small (will end in `e-18` indicating a very small number).\n",
    "\n",
    "[1] This isn’t really the full picture, since we are not looking at when the dose was given. It’s possible that children had chickenpox and then their parents went to get them the vaccine. Does this dataset have the data we would need to investigate the timing of the dose?"
   ]
  },
  {
   "cell_type": "markdown",
   "id": "c3e6dcf9",
   "metadata": {},
   "source": [
    "<font size=3 color='RED'>\n",
    "0.07044873460147986\n",
    "</font>"
   ]
  },
  {
   "cell_type": "code",
   "execution_count": null,
   "id": "7d4a8c46",
   "metadata": {},
   "outputs": [],
   "source": [
    "import scipy.stats as stats\n",
    "   \n",
    "    # YOUR CODE HERE\n",
    "    #raise NotImplementedError()\n",
    "    \n",
    "    corr, pval=stats.pearsonr(data['HAD_CPOX',data['P_NUMVRC'])\n",
    "    return corr\n"
   ]
  }
 ],
 "metadata": {
  "kernelspec": {
   "display_name": "Python 3 (ipykernel)",
   "language": "python",
   "name": "python3"
  },
  "language_info": {
   "codemirror_mode": {
    "name": "ipython",
    "version": 3
   },
   "file_extension": ".py",
   "mimetype": "text/x-python",
   "name": "python",
   "nbconvert_exporter": "python",
   "pygments_lexer": "ipython3",
   "version": "3.9.7"
  }
 },
 "nbformat": 4,
 "nbformat_minor": 5
}
