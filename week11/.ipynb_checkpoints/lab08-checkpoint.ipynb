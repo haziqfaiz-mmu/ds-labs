{
 "cells": [
  {
   "cell_type": "markdown",
   "metadata": {
    "id": "MducVsGhYxsz"
   },
   "source": [
    "# **Lab 8**\n"
   ]
  },
  {
   "cell_type": "markdown",
   "metadata": {
    "id": "7mrvtOUMYfDq"
   },
   "source": [
    "## Building Predictive Models (Regression & Classification)\n",
    "\n",
    "In this lab, you will learn the basic pipeline of how to build predictive models. The process of training models from data is part of a machine learning where we use lots of data to enable the machine (that is, computers) to learn models that eventually, can be deployed to make further predictions on new or unseen data. Basically, this automates the process of making manual predictions either through a subject matter expert, or through rules and heuristics decided by the expert. \n",
    "\n",
    "> **Credit note:** A small portion of this lab was adapted from [Aurelien Geron's tutorial](https://github.com/ageron/handson-ml). You can find a lot of comprehensive tutorials there."
   ]
  },
  {
   "cell_type": "code",
   "execution_count": null,
   "metadata": {
    "id": "y8T-rYkeYfDu"
   },
   "outputs": [],
   "source": [
    "import numpy as np\n",
    "import pandas as pd\n",
    "import matplotlib.pyplot as plt\n",
    "import seaborn as sns\n",
    "\n",
    "import warnings\n",
    "warnings.filterwarnings('ignore')"
   ]
  },
  {
   "cell_type": "markdown",
   "metadata": {
    "id": "6-lltFy1RSuo"
   },
   "source": [
    "We will be using `scikit-learn`, a very popular machine learning (ML) library for Python. \n",
    "\n",
    "> **Note**: scikit-learn has very rapid development (every few months, there's an upgrade in version), so you can constantly check to see if the updated version is available."
   ]
  },
  {
   "cell_type": "code",
   "execution_count": null,
   "metadata": {
    "id": "106ibdgrRSKe"
   },
   "outputs": [],
   "source": [
    "!pip install --upgrade scikit-learn"
   ]
  },
  {
   "cell_type": "markdown",
   "metadata": {
    "id": "XOVHhsWYYfD5"
   },
   "source": [
    "Let's try examining a substantially large dataset, `california_housing.csv` which consists of housing data from the state of California in USA. There's more than 20,000 rows of data and this would be more than sufficient for training predictive models."
   ]
  },
  {
   "cell_type": "code",
   "execution_count": null,
   "metadata": {
    "id": "HXBqQ99AYfD_"
   },
   "outputs": [],
   "source": [
    "df = pd.read_csv('california_housing.csv', encoding='latin1')"
   ]
  },
  {
   "cell_type": "code",
   "execution_count": null,
   "metadata": {
    "id": "YXB9yYY0YfEH",
    "scrolled": true
   },
   "outputs": [],
   "source": [
    "df.head()"
   ]
  },
  {
   "cell_type": "markdown",
   "metadata": {
    "id": "buFLiUp4YfES"
   },
   "source": [
    "Let's have a look at the information of this dataset..."
   ]
  },
  {
   "cell_type": "code",
   "execution_count": null,
   "metadata": {
    "id": "Zzyv9X1GYfEU"
   },
   "outputs": [],
   "source": [
    "df.info()"
   ]
  },
  {
   "cell_type": "markdown",
   "metadata": {
    "id": "-irtRNrNYfEc"
   },
   "source": [
    "We have all numerical data except for the last column `ocean_proximity` which is stated as *object*. A closer look at the values of this attribute will reveal that they are actually strings. \n",
    "\n",
    "> **Recall:** When using dataframes, strings are also considered objects."
   ]
  },
  {
   "cell_type": "code",
   "execution_count": null,
   "metadata": {
    "id": "MPs86ur_YfEc"
   },
   "outputs": [],
   "source": [
    "df['ocean_proximity'].head()"
   ]
  },
  {
   "cell_type": "markdown",
   "metadata": {
    "id": "z2NsaMXwYfEm"
   },
   "source": [
    "### Preparing the data for model training\n",
    "\n",
    "Before we train the model, we need to prepare the data by doing a few things:\n",
    "* Are there any rows with null values?\n",
    "* Are there any attributes that are categorical? If yes, and if we are planning to use it to train the model, we ought to convert it to discrete numerical values.\n",
    "* Separate out the descriptor (features) and the response (label) data."
   ]
  },
  {
   "cell_type": "code",
   "execution_count": null,
   "metadata": {
    "id": "ScRWnAV4YfEo",
    "scrolled": true
   },
   "outputs": [],
   "source": [
    "sample_incomplete_rows = df[df.isnull().any(axis=1)]     # filter out rows with null values on any column\n",
    "sample_incomplete_rows"
   ]
  },
  {
   "cell_type": "markdown",
   "metadata": {
    "id": "7x_1q4YgYfEv"
   },
   "source": [
    "We have 207 rows containing null values on the `total_bedrooms` column. We have a two quick options: 1) Have these rows removed (if there not many, it would not affect the overall size of the data), 2) Fill these null values with the mean or median value."
   ]
  },
  {
   "cell_type": "code",
   "execution_count": null,
   "metadata": {
    "id": "VHIfvw4pYfEw"
   },
   "outputs": [],
   "source": [
    "# option 1 (remove these rows)\n",
    "\n",
    "# check these 2 columns that are likely to have NaNs\n",
    "housing = df.dropna(subset=[\"total_bedrooms\",'ocean_proximity'],axis=0)  \n",
    "housing.reset_index(drop=True)"
   ]
  },
  {
   "cell_type": "code",
   "execution_count": null,
   "metadata": {
    "id": "--qOmrMUYfE4"
   },
   "outputs": [],
   "source": [
    "len(housing)"
   ]
  },
  {
   "cell_type": "code",
   "execution_count": null,
   "metadata": {
    "id": "zOu4LxbiYfE_"
   },
   "outputs": [],
   "source": [
    "# [OPTIONAL] Option 2: fill with mean or median value. This can be tried later.\n"
   ]
  },
  {
   "cell_type": "markdown",
   "metadata": {
    "id": "QYXVtAEIYfFG"
   },
   "source": [
    "`ocean_promixity` attribute contained a discrete number of categories. In certain libraries that you will be training a model, you may not need to convert its form (discrete categories is accepted), but most cases including for `scikit-learn` package, we need to convert them into numerics. scikit-learn has a `LabelEncoder` class which does the job."
   ]
  },
  {
   "cell_type": "code",
   "execution_count": null,
   "metadata": {
    "id": "svKd_cZxYfFI"
   },
   "outputs": [],
   "source": [
    "from sklearn.preprocessing import LabelEncoder\n",
    "\n",
    "encoder = LabelEncoder()\n",
    "housing_cat = housing[\"ocean_proximity\"].values\n",
    "housing_cat_encoded = encoder.fit_transform(housing_cat.astype('str'))   # this \"fits\" the labels to numerical classes\n",
    "housing_cat_encoded"
   ]
  },
  {
   "cell_type": "code",
   "execution_count": null,
   "metadata": {
    "id": "tqMgux26YfFN"
   },
   "outputs": [],
   "source": [
    "encoder.classes_"
   ]
  },
  {
   "cell_type": "markdown",
   "metadata": {
    "id": "7TDynEfdYfFV"
   },
   "source": [
    "To make this change directly to the dataframe, replace the original strings with the encoded numerics."
   ]
  },
  {
   "cell_type": "code",
   "execution_count": null,
   "metadata": {
    "id": "Tzr-NYOUYfFW",
    "scrolled": true
   },
   "outputs": [],
   "source": [
    "housing['ocean_proximity'] = encoder.fit_transform(housing['ocean_proximity'])"
   ]
  },
  {
   "cell_type": "code",
   "execution_count": 11,
   "metadata": {
    "id": "VZJVQri-YfFc",
    "scrolled": true
   },
   "outputs": [
    {
     "data": {
      "text/html": [
       "<div>\n",
       "<style scoped>\n",
       "    .dataframe tbody tr th:only-of-type {\n",
       "        vertical-align: middle;\n",
       "    }\n",
       "\n",
       "    .dataframe tbody tr th {\n",
       "        vertical-align: top;\n",
       "    }\n",
       "\n",
       "    .dataframe thead th {\n",
       "        text-align: right;\n",
       "    }\n",
       "</style>\n",
       "<table border=\"1\" class=\"dataframe\">\n",
       "  <thead>\n",
       "    <tr style=\"text-align: right;\">\n",
       "      <th></th>\n",
       "      <th>longitude</th>\n",
       "      <th>latitude</th>\n",
       "      <th>housing_median_age</th>\n",
       "      <th>total_rooms</th>\n",
       "      <th>total_bedrooms</th>\n",
       "      <th>population</th>\n",
       "      <th>households</th>\n",
       "      <th>median_income</th>\n",
       "      <th>median_house_value</th>\n",
       "      <th>ocean_proximity</th>\n",
       "    </tr>\n",
       "  </thead>\n",
       "  <tbody>\n",
       "    <tr>\n",
       "      <th>0</th>\n",
       "      <td>-122.23</td>\n",
       "      <td>37.88</td>\n",
       "      <td>41.0</td>\n",
       "      <td>880.0</td>\n",
       "      <td>129.0</td>\n",
       "      <td>322.0</td>\n",
       "      <td>126.0</td>\n",
       "      <td>8.3252</td>\n",
       "      <td>452600.0</td>\n",
       "      <td>3</td>\n",
       "    </tr>\n",
       "    <tr>\n",
       "      <th>1</th>\n",
       "      <td>-122.22</td>\n",
       "      <td>37.86</td>\n",
       "      <td>21.0</td>\n",
       "      <td>7099.0</td>\n",
       "      <td>1106.0</td>\n",
       "      <td>2401.0</td>\n",
       "      <td>1138.0</td>\n",
       "      <td>8.3014</td>\n",
       "      <td>358500.0</td>\n",
       "      <td>3</td>\n",
       "    </tr>\n",
       "    <tr>\n",
       "      <th>2</th>\n",
       "      <td>-122.24</td>\n",
       "      <td>37.85</td>\n",
       "      <td>52.0</td>\n",
       "      <td>1467.0</td>\n",
       "      <td>190.0</td>\n",
       "      <td>496.0</td>\n",
       "      <td>177.0</td>\n",
       "      <td>7.2574</td>\n",
       "      <td>352100.0</td>\n",
       "      <td>3</td>\n",
       "    </tr>\n",
       "    <tr>\n",
       "      <th>3</th>\n",
       "      <td>-122.25</td>\n",
       "      <td>37.85</td>\n",
       "      <td>52.0</td>\n",
       "      <td>1274.0</td>\n",
       "      <td>235.0</td>\n",
       "      <td>558.0</td>\n",
       "      <td>219.0</td>\n",
       "      <td>5.6431</td>\n",
       "      <td>341300.0</td>\n",
       "      <td>3</td>\n",
       "    </tr>\n",
       "    <tr>\n",
       "      <th>4</th>\n",
       "      <td>-122.25</td>\n",
       "      <td>37.85</td>\n",
       "      <td>52.0</td>\n",
       "      <td>1627.0</td>\n",
       "      <td>280.0</td>\n",
       "      <td>565.0</td>\n",
       "      <td>259.0</td>\n",
       "      <td>3.8462</td>\n",
       "      <td>342200.0</td>\n",
       "      <td>3</td>\n",
       "    </tr>\n",
       "    <tr>\n",
       "      <th>...</th>\n",
       "      <td>...</td>\n",
       "      <td>...</td>\n",
       "      <td>...</td>\n",
       "      <td>...</td>\n",
       "      <td>...</td>\n",
       "      <td>...</td>\n",
       "      <td>...</td>\n",
       "      <td>...</td>\n",
       "      <td>...</td>\n",
       "      <td>...</td>\n",
       "    </tr>\n",
       "    <tr>\n",
       "      <th>20635</th>\n",
       "      <td>-121.09</td>\n",
       "      <td>39.48</td>\n",
       "      <td>25.0</td>\n",
       "      <td>1665.0</td>\n",
       "      <td>374.0</td>\n",
       "      <td>845.0</td>\n",
       "      <td>330.0</td>\n",
       "      <td>1.5603</td>\n",
       "      <td>78100.0</td>\n",
       "      <td>1</td>\n",
       "    </tr>\n",
       "    <tr>\n",
       "      <th>20636</th>\n",
       "      <td>-121.21</td>\n",
       "      <td>39.49</td>\n",
       "      <td>18.0</td>\n",
       "      <td>697.0</td>\n",
       "      <td>150.0</td>\n",
       "      <td>356.0</td>\n",
       "      <td>114.0</td>\n",
       "      <td>2.5568</td>\n",
       "      <td>77100.0</td>\n",
       "      <td>1</td>\n",
       "    </tr>\n",
       "    <tr>\n",
       "      <th>20637</th>\n",
       "      <td>-121.22</td>\n",
       "      <td>39.43</td>\n",
       "      <td>17.0</td>\n",
       "      <td>2254.0</td>\n",
       "      <td>485.0</td>\n",
       "      <td>1007.0</td>\n",
       "      <td>433.0</td>\n",
       "      <td>1.7000</td>\n",
       "      <td>92300.0</td>\n",
       "      <td>1</td>\n",
       "    </tr>\n",
       "    <tr>\n",
       "      <th>20638</th>\n",
       "      <td>-121.32</td>\n",
       "      <td>39.43</td>\n",
       "      <td>18.0</td>\n",
       "      <td>1860.0</td>\n",
       "      <td>409.0</td>\n",
       "      <td>741.0</td>\n",
       "      <td>349.0</td>\n",
       "      <td>1.8672</td>\n",
       "      <td>84700.0</td>\n",
       "      <td>1</td>\n",
       "    </tr>\n",
       "    <tr>\n",
       "      <th>20639</th>\n",
       "      <td>-121.24</td>\n",
       "      <td>39.37</td>\n",
       "      <td>16.0</td>\n",
       "      <td>2785.0</td>\n",
       "      <td>616.0</td>\n",
       "      <td>1387.0</td>\n",
       "      <td>530.0</td>\n",
       "      <td>2.3886</td>\n",
       "      <td>89400.0</td>\n",
       "      <td>1</td>\n",
       "    </tr>\n",
       "  </tbody>\n",
       "</table>\n",
       "<p>20433 rows × 10 columns</p>\n",
       "</div>"
      ],
      "text/plain": [
       "       longitude  latitude  housing_median_age  total_rooms  total_bedrooms  \\\n",
       "0        -122.23     37.88                41.0        880.0           129.0   \n",
       "1        -122.22     37.86                21.0       7099.0          1106.0   \n",
       "2        -122.24     37.85                52.0       1467.0           190.0   \n",
       "3        -122.25     37.85                52.0       1274.0           235.0   \n",
       "4        -122.25     37.85                52.0       1627.0           280.0   \n",
       "...          ...       ...                 ...          ...             ...   \n",
       "20635    -121.09     39.48                25.0       1665.0           374.0   \n",
       "20636    -121.21     39.49                18.0        697.0           150.0   \n",
       "20637    -121.22     39.43                17.0       2254.0           485.0   \n",
       "20638    -121.32     39.43                18.0       1860.0           409.0   \n",
       "20639    -121.24     39.37                16.0       2785.0           616.0   \n",
       "\n",
       "       population  households  median_income  median_house_value  \\\n",
       "0           322.0       126.0         8.3252            452600.0   \n",
       "1          2401.0      1138.0         8.3014            358500.0   \n",
       "2           496.0       177.0         7.2574            352100.0   \n",
       "3           558.0       219.0         5.6431            341300.0   \n",
       "4           565.0       259.0         3.8462            342200.0   \n",
       "...           ...         ...            ...                 ...   \n",
       "20635       845.0       330.0         1.5603             78100.0   \n",
       "20636       356.0       114.0         2.5568             77100.0   \n",
       "20637      1007.0       433.0         1.7000             92300.0   \n",
       "20638       741.0       349.0         1.8672             84700.0   \n",
       "20639      1387.0       530.0         2.3886             89400.0   \n",
       "\n",
       "       ocean_proximity  \n",
       "0                    3  \n",
       "1                    3  \n",
       "2                    3  \n",
       "3                    3  \n",
       "4                    3  \n",
       "...                ...  \n",
       "20635                1  \n",
       "20636                1  \n",
       "20637                1  \n",
       "20638                1  \n",
       "20639                1  \n",
       "\n",
       "[20433 rows x 10 columns]"
      ]
     },
     "execution_count": 11,
     "metadata": {},
     "output_type": "execute_result"
    }
   ],
   "source": [
    "housing"
   ]
  },
  {
   "cell_type": "markdown",
   "metadata": {
    "id": "Gx_giBQGYfFh"
   },
   "source": [
    "In supervised machine learning, we have the \"data\" and the \"labels\" the so-called \"descriptor\" and the \"response\" variables respectively. `scikit-learn` (and many other packages) uses the `X` and `y` variables as conventions:"
   ]
  },
  {
   "cell_type": "code",
   "execution_count": 12,
   "metadata": {
    "id": "3rnRpyJxYfFj"
   },
   "outputs": [],
   "source": [
    "X = housing.drop(\"median_house_value\", axis=1)     # drop labels from original data\n",
    "y = housing[\"median_house_value\"].copy()    # copy the labels to another dataframe/series"
   ]
  },
  {
   "cell_type": "code",
   "execution_count": 20,
   "metadata": {
    "id": "mg-d16yLYfFp"
   },
   "outputs": [
    {
     "name": "stdout",
     "output_type": "stream",
     "text": [
      "(20433, 9)\n",
      "(20433,)\n"
     ]
    }
   ],
   "source": [
    "# checking the shape is a good practice to know that the information is correct\n",
    "print(X.shape)\n",
    "print(y.shape)"
   ]
  },
  {
   "cell_type": "markdown",
   "metadata": {
    "id": "M_IStmYBYfFu"
   },
   "source": [
    "### Model Training\n",
    "\n",
    "#### Training and Test sets\n",
    "\n",
    "The first step before performing model training is to first divide our data into 2 partitions: **training** and **test** sets. The training set is basically the portion of data that is used to build the model. This set is not appropriate to be used to evaluate the actual performance of the model. Hence, that's why we need the test set. The test set is a held-out portion of the data which will be used to measure how well can the model predict unseen data. Now, obviously all the data we have are \"seen\", but we create an environment where there are \"unseen\" data-- data that has not been seen by the machine during the training step. This can give us an idea how well does the model generalizes towards \"new\" data.\n"
   ]
  },
  {
   "cell_type": "code",
   "execution_count": 13,
   "metadata": {
    "id": "RMeQVf0tYfFv",
    "scrolled": true
   },
   "outputs": [],
   "source": [
    "from sklearn.model_selection import train_test_split"
   ]
  },
  {
   "cell_type": "code",
   "execution_count": 14,
   "metadata": {
    "id": "pnCuOiYuYfF0"
   },
   "outputs": [],
   "source": [
    "X_train, X_test, y_train, y_test = train_test_split(X, y, random_state=1)"
   ]
  },
  {
   "cell_type": "markdown",
   "metadata": {
    "id": "kwekvGEcYfF6"
   },
   "source": [
    "By default, `train_test_split` splits the data in *X* into the train and test portion based on the parameter `test_size=0.25` or 25% of samples in the test size and the remaining (75%) of samples in the training set. This gives a training-test ratio of 3:1. The `random_state` parameter takes a seed value so that the splitting will always be the same (for reproducibility purposes in this exercise). It is OK to leave out this parameter, which in that case, produces totally random splits in every execution."
   ]
  },
  {
   "cell_type": "code",
   "execution_count": 15,
   "metadata": {
    "id": "-hIAf56uYfF7"
   },
   "outputs": [
    {
     "name": "stdout",
     "output_type": "stream",
     "text": [
      "(15324, 9)\n",
      "(15324,)\n",
      "(5109, 9)\n",
      "(5109,)\n"
     ]
    }
   ],
   "source": [
    "# check shapes after splitting\n",
    "print(X_train.shape)\n",
    "print(y_train.shape)\n",
    "print(X_test.shape)\n",
    "print(y_test.shape)"
   ]
  },
  {
   "cell_type": "markdown",
   "metadata": {
    "id": "ck-ck18vYfF_"
   },
   "source": [
    "The prediction of median house value has an expected response in a form of a continuous value, not as categories or classes. It is a **regression** problem, which means that, given a bunch of new data (*X'*), we want to estimate the likely house value (*y'*).\n",
    "\n",
    "Let's go with the simplest method: **Linear Regression**. (And later, we shall also use Decision Tree Regressors to try out)."
   ]
  },
  {
   "cell_type": "code",
   "execution_count": 16,
   "metadata": {
    "id": "huN30-YIYfGB"
   },
   "outputs": [],
   "source": [
    "from sklearn.linear_model import LinearRegression"
   ]
  },
  {
   "cell_type": "code",
   "execution_count": 17,
   "metadata": {
    "id": "FNxOoDCxYfGU"
   },
   "outputs": [],
   "source": [
    "# this fits the data to a linear regression model. This should be extremely quick!\n",
    "reg = LinearRegression().fit(X_train, y_train)"
   ]
  },
  {
   "cell_type": "markdown",
   "metadata": {
    "id": "-bn6rk8BYfGZ"
   },
   "source": [
    "If you are interested to know what are the *coefficients* to the linear regression model that has been found through the training process:"
   ]
  },
  {
   "cell_type": "code",
   "execution_count": 18,
   "metadata": {
    "id": "3Xry-5whYfGZ"
   },
   "outputs": [
    {
     "data": {
      "text/plain": [
       "array([-4.27859586e+04, -4.25579406e+04,  1.16899780e+03, -8.25110417e+00,\n",
       "        1.15446438e+02, -3.69104753e+01,  4.31167826e+01,  4.02676934e+04,\n",
       "        1.31708435e+02])"
      ]
     },
     "execution_count": 18,
     "metadata": {},
     "output_type": "execute_result"
    }
   ],
   "source": [
    "reg.coef_"
   ]
  },
  {
   "cell_type": "code",
   "execution_count": 19,
   "metadata": {
    "id": "aA9czFuvYfGg"
   },
   "outputs": [
    {
     "data": {
      "text/plain": [
       "-3591367.637135243"
      ]
     },
     "execution_count": 19,
     "metadata": {},
     "output_type": "execute_result"
    }
   ],
   "source": [
    "reg.intercept_"
   ]
  },
  {
   "cell_type": "markdown",
   "metadata": {
    "id": "N8wqSwKyYfGp"
   },
   "source": [
    "**Q1**: What can you understand from these values? Can you figure out what is the linear function that has been fitted to the data?\n",
    "\n",
    "<br>re.coef_ gives us the 9 slopes for each pair of data and labels. For example look at the third data, a 1 unit change in the housing median age, the median price will increacse for about 1.169 unit. reg.intercept is the yintercept of the regression line, which is smoetimes called the A<br>\n",
    "\n",
    "The function `score()` returns the $\\text{R}^2$ determination coefficient which measures how well is the fitting. 1.0 gets us a perfect fit while -1.0 gets us the poorest fit, any value around 0.0 basically means the model predicts something disregarding the input features, which is as good as random. (Note: this seems like similar range to correlation, but it is not correlation!)"
   ]
  },
  {
   "cell_type": "code",
   "execution_count": 31,
   "metadata": {
    "id": "buCq2lWIYfGr"
   },
   "outputs": [
    {
     "data": {
      "text/plain": [
       "0.6480945215253389"
      ]
     },
     "execution_count": 31,
     "metadata": {},
     "output_type": "execute_result"
    }
   ],
   "source": [
    "reg.score(X_test, y_test)"
   ]
  },
  {
   "cell_type": "markdown",
   "metadata": {
    "id": "eHer2sNvYfGv"
   },
   "source": [
    "Let's take the first 5 entries from the test data and use the model to make predictions on the house value. The `predict()` function can perform prediction on a single piece of data, or an array of data."
   ]
  },
  {
   "cell_type": "code",
   "execution_count": 32,
   "metadata": {
    "id": "VDP8cragYfGx"
   },
   "outputs": [
    {
     "data": {
      "text/plain": [
       "array([376549.98172671, 273367.48120465, 146586.82021588, 357596.93640995,\n",
       "        29098.29218556])"
      ]
     },
     "execution_count": 32,
     "metadata": {},
     "output_type": "execute_result"
    }
   ],
   "source": [
    "some_data = X_test.iloc[:5]    # take first 5 entries from X_test\n",
    "predicted_house_values = reg.predict(some_data)\n",
    "predicted_house_values"
   ]
  },
  {
   "cell_type": "code",
   "execution_count": 33,
   "metadata": {
    "id": "ja5U8r5JYfG0"
   },
   "outputs": [
    {
     "data": {
      "text/plain": [
       "array([360900., 291500., 131300., 500001., 118800.])"
      ]
     },
     "execution_count": 33,
     "metadata": {},
     "output_type": "execute_result"
    }
   ],
   "source": [
    "actual_house_values = y_test.iloc[:5].values     # here's the first 5 entries from y_test, which are the 'ground truth'\n",
    "actual_house_values"
   ]
  },
  {
   "cell_type": "markdown",
   "metadata": {
    "id": "ZueKa3AeYfG6"
   },
   "source": [
    "How far are the predicted house values compared to the actual house values? Remember, we have the 'ground truth' or the actual answer. \n",
    "\n",
    "Let's do a simple error calculation. How about finding the *absolute difference* between the two sets of values?"
   ]
  },
  {
   "cell_type": "code",
   "execution_count": 35,
   "metadata": {
    "id": "bO4rKDaoYfG6"
   },
   "outputs": [
    {
     "data": {
      "text/plain": [
       "array([ 15649.98172671,  18132.51879535,  15286.82021588, 142404.06359005,\n",
       "        89701.70781444])"
      ]
     },
     "execution_count": 35,
     "metadata": {},
     "output_type": "execute_result"
    }
   ],
   "source": [
    "np.abs(predicted_house_values-actual_house_values)"
   ]
  },
  {
   "cell_type": "markdown",
   "metadata": {
    "id": "ExBfV6ckYfG-"
   },
   "source": [
    "**What do you observe?**\n",
    "\n",
    "To calculate the mean of this error across all test data, we calculate what is known as **Mean Absolute Erorr (MAE)**, which tells us the amount of error made by the trained model. The *lower* this value, the *better* or more *accurate* the model is."
   ]
  },
  {
   "cell_type": "code",
   "execution_count": 36,
   "metadata": {
    "id": "Vz8UDLzWYfG_"
   },
   "outputs": [
    {
     "name": "stdout",
     "output_type": "stream",
     "text": [
      "50796.156942570015\n"
     ]
    }
   ],
   "source": [
    "from sklearn.metrics import mean_absolute_error\n",
    "\n",
    "y_pred = reg.predict(X_test)\n",
    "model_mae = mean_absolute_error(y_test, y_pred)\n",
    "print(model_mae)"
   ]
  },
  {
   "cell_type": "markdown",
   "metadata": {
    "collapsed": true,
    "id": "sRIexPWjYfHE"
   },
   "source": [
    "Let's try to do some plotting to see where are the data points are and where the linear model is. You can attempt to plot the line manually using the coefficients and intercept values from the model fitting. \n",
    "\n",
    "You can also use seaborn's `regplot()` function which does both: linear regression + plotting the scatter and regression line. The only drawback here is that it does not return the model parameters (coefficients and intercept), hence limiting your ability to use the model for further predictions. "
   ]
  },
  {
   "cell_type": "code",
   "execution_count": 37,
   "metadata": {
    "id": "7oGBgeDkYfHG"
   },
   "outputs": [
    {
     "data": {
      "image/png": "[encoded data removed]",
      "text/plain": [
       "<Figure size 432x288 with 1 Axes>"
      ]
     },
     "metadata": {
      "needs_background": "light"
     },
     "output_type": "display_data"
    }
   ],
   "source": [
    "sns.regplot(x=\"median_income\", y=\"median_house_value\", data=housing, \n",
    "            scatter_kws={\"color\": \"blue\"}, line_kws={\"color\": \"red\"})\n",
    "plt.show()"
   ]
  },
  {
   "cell_type": "markdown",
   "metadata": {
    "id": "puXTm_ugYfHM"
   },
   "source": [
    "Now, let's re-run our experiment using **Decision Tree Regressors**, another regression method that is based on decision trees."
   ]
  },
  {
   "cell_type": "code",
   "execution_count": 38,
   "metadata": {
    "id": "INjHwqZxYfHM"
   },
   "outputs": [],
   "source": [
    "from sklearn.tree import DecisionTreeRegressor"
   ]
  },
  {
   "cell_type": "code",
   "execution_count": 39,
   "metadata": {
    "id": "1jbfhV_OYfHQ"
   },
   "outputs": [
    {
     "data": {
      "text/plain": [
       "DecisionTreeRegressor(max_depth=7)"
      ]
     },
     "execution_count": 39,
     "metadata": {},
     "output_type": "execute_result"
    }
   ],
   "source": [
    "dtr1 = DecisionTreeRegressor(max_depth=7)\n",
    "dtr1.fit(X_train, y_train)"
   ]
  },
  {
   "cell_type": "markdown",
   "metadata": {
    "id": "q0Zi6uD4YfHT"
   },
   "source": [
    "**Technical note:** `max_depth` controls the maximum possible depth of the decision tree (that means, the decision tree cannot expand deeper than this value). The deeper a decision tree expands, the finer it splits the data. This can increase the complexity of the model by way of many local linear regressions, but at the expense of overfitting the training data too much."
   ]
  },
  {
   "cell_type": "code",
   "execution_count": 40,
   "metadata": {
    "id": "FWAuePSVYfHU"
   },
   "outputs": [
    {
     "data": {
      "text/plain": [
       "43226.096007614375"
      ]
     },
     "execution_count": 40,
     "metadata": {},
     "output_type": "execute_result"
    }
   ],
   "source": [
    "y_pred2 = dtr1.predict(X_test)\n",
    "dtr1_mae = mean_absolute_error(y_test, y_pred2)\n",
    "dtr1_mae"
   ]
  },
  {
   "cell_type": "markdown",
   "metadata": {
    "id": "3lRKx-w2YfHZ"
   },
   "source": [
    "**Q2**: Find out what is the best `max_depth` parameter such that we can have the smallest MAE score. \n",
    "\n",
    "Hint: Try plotting `max_depth` vs. MAE. Is there a \"sweet spot\" that we can get the best result?"
   ]
  },
  {
   "cell_type": "code",
   "execution_count": 46,
   "metadata": {
    "id": "rX01kSVqYfHb"
   },
   "outputs": [
    {
     "data": {
      "text/plain": [
       "[74634.75355691169,\n",
       " 65526.49237260166,\n",
       " 60763.045695331726,\n",
       " 53624.31076107762,\n",
       " 50442.835199054294,\n",
       " 46248.91465712863,\n",
       " 43211.49743735611,\n",
       " 41537.78904075618,\n",
       " 39769.9287047663,\n",
       " 39356.17727507083,\n",
       " 39074.526819182924,\n",
       " 39430.72519720961,\n",
       " 39553.38628495353,\n",
       " 40072.19921911557,\n",
       " 41037.45891691596,\n",
       " 41424.408133367746,\n",
       " 41606.18757838359,\n",
       " 42137.395635789995,\n",
       " 42044.07999851207,\n",
       " 42815.77344037427,\n",
       " 43226.78635013043,\n",
       " 42962.543511720585,\n",
       " 42815.13154932482,\n",
       " 42526.2733621605,\n",
       " 42653.842702957205,\n",
       " 42882.9220571376,\n",
       " 43113.92248494421,\n",
       " 43144.2985890276,\n",
       " 43138.14327657076,\n",
       " 43370.37698179683,\n",
       " 42711.3725451817,\n",
       " 43422.10138970445,\n",
       " 42578.649833626936,\n",
       " 43018.364063417495,\n",
       " 42875.437854766096,\n",
       " 43382.05402231356,\n",
       " 42945.88432178509,\n",
       " 43112.47308670973,\n",
       " 42696.18809943237,\n",
       " 42878.90213348992,\n",
       " 43033.57232335095,\n",
       " 42835.274417694265,\n",
       " 43506.326286944604,\n",
       " 42843.220395380704,\n",
       " 43473.28870620474,\n",
       " 42907.48228616168,\n",
       " 42886.94813074966,\n",
       " 43284.601291837935,\n",
       " 43018.93149344294,\n",
       " 43187.79095713447,\n",
       " 43140.383832452535,\n",
       " 42744.33626932863,\n",
       " 42659.994323742416,\n",
       " 42844.456840869054,\n",
       " 42771.053826580544,\n",
       " 42823.43315717362,\n",
       " 42814.19475435506,\n",
       " 43150.91466040321,\n",
       " 43226.957917400665,\n",
       " 42835.23507535721,\n",
       " 43007.107848894106,\n",
       " 42959.114503816796,\n",
       " 42752.0688980231,\n",
       " 42995.579761205714,\n",
       " 42895.05167351732,\n",
       " 42627.699941280094,\n",
       " 43218.87159913877,\n",
       " 42695.34409864944,\n",
       " 42723.667058132705,\n",
       " 42920.86983754159,\n",
       " 43306.9524368761,\n",
       " 43318.4611469955,\n",
       " 43262.736347621845,\n",
       " 43009.20454100607,\n",
       " 42638.583284400076,\n",
       " 43016.11156782149,\n",
       " 43062.7543550597,\n",
       " 43250.01409277745,\n",
       " 42642.242904678016,\n",
       " 43082.4447054218,\n",
       " 42926.956155803484,\n",
       " 42700.141123507536,\n",
       " 42706.053826580544,\n",
       " 43082.66001174398,\n",
       " 42930.26521824232,\n",
       " 42789.570757486785,\n",
       " 42813.66510080251,\n",
       " 43732.00665492268,\n",
       " 43111.31884908984,\n",
       " 42685.12663926405,\n",
       " 43184.05128205128,\n",
       " 43199.610295556864,\n",
       " 43484.17126639264,\n",
       " 42658.42982971227,\n",
       " 42790.392836171464,\n",
       " 43130.98923468389,\n",
       " 42982.9737717753,\n",
       " 42701.881777255825,\n",
       " 43312.670189861026]"
      ]
     },
     "execution_count": 46,
     "metadata": {},
     "output_type": "execute_result"
    }
   ],
   "source": [
    "dtrlist=[]\n",
    "max_depth_list = [range(1,100)]\n",
    "for i in max_depth_list:\n",
    "    dtr = DecisionTreeRegressor(max_depth=i)\n",
    "    dtr.fit(X_train,y_train)\n",
    "    ypred = dtr.predict(X_test)\n",
    "    dtr_mae = mean_absolute_error(y_test,ypred)\n",
    "    dtrlist.append(dtr_mae)\n",
    "dtrlist"
   ]
  },
  {
   "cell_type": "code",
   "execution_count": 55,
   "metadata": {},
   "outputs": [
    {
     "data": {
      "text/plain": [
       "[<matplotlib.lines.Line2D at 0x7f6768d35910>]"
      ]
     },
     "execution_count": 55,
     "metadata": {},
     "output_type": "execute_result"
    },
    {
     "data": {
      "image/png": "[encoded data removed]",
      "text/plain": [
       "<Figure size 1440x360 with 1 Axes>"
      ]
     },
     "metadata": {
      "needs_background": "light"
     },
     "output_type": "display_data"
    }
   ],
   "source": [
    "import matplotlib.pyplot as plt\n",
    "max_depth_list = range(1,100)\n",
    "plt.figure(figsize=(20,5))\n",
    "plt.plot(max_depth_list, dtrlist)"
   ]
  },
  {
   "cell_type": "markdown",
   "metadata": {},
   "source": [
    "It seems like the MAE start to stabilize when the depth value is around 17."
   ]
  },
  {
   "cell_type": "markdown",
   "metadata": {
    "id": "7hncQotfYfHh"
   },
   "source": [
    "### Cross-Validation\n",
    "\n",
    "You may be wondering, isn't this setup a bit unfair, since we have split the data into two portions, 75% for training and 25% for testing. That means the other 75% that were used for training never got chance to be tested. This can be unfair: Either we got really lucky having good results with that 25% data, or we were unlucky having bad results that some better results could be possible if we had split the portions differently. \n",
    "\n",
    "In comes **cross-validation**. Cross-validation is a way of ensuring that every sample gets tested at least once. The way to achieve this is by having a \"folding\" mechanism that will run a few iterations going through a few possible splits. For example, if we intend to perform cross-validation with 3 \"folds\" (also known as 3-fold cross-validation), we first need to partition the full set of data into 3 sections. The 1st section is then held-out as the test set, while the 2nd and 3rd sections will be merged and used as the training set. This is then repeated again by holding out the 2nd section and using the 1st and 3rd sections as training. Finally, repeat again one more time with the 3rd section as test set. We will have 3 test scores in the end. Typically, we will take the average score of all folds as the actual overall score."
   ]
  },
  {
   "cell_type": "code",
   "execution_count": 56,
   "metadata": {
    "id": "b5Dg_-3xYfHi"
   },
   "outputs": [],
   "source": [
    "from sklearn.model_selection import cross_validate"
   ]
  },
  {
   "cell_type": "code",
   "execution_count": 57,
   "metadata": {
    "id": "UCC283YiYfHk"
   },
   "outputs": [],
   "source": [
    "regmodel = LinearRegression()\n",
    "cv_results = cross_validate(regmodel, X, y, cv=3, return_train_score=False)"
   ]
  },
  {
   "cell_type": "code",
   "execution_count": 58,
   "metadata": {
    "id": "lhTWB6wTYfHo"
   },
   "outputs": [
    {
     "data": {
      "text/plain": [
       "dict_keys(['fit_time', 'score_time', 'test_score'])"
      ]
     },
     "execution_count": 58,
     "metadata": {},
     "output_type": "execute_result"
    }
   ],
   "source": [
    "cv_results.keys()"
   ]
  },
  {
   "cell_type": "code",
   "execution_count": 59,
   "metadata": {
    "id": "ZbH-VyInYfHs"
   },
   "outputs": [
    {
     "data": {
      "text/plain": [
       "array([0.57872609, 0.62030172, 0.6025268 ])"
      ]
     },
     "execution_count": 59,
     "metadata": {},
     "output_type": "execute_result"
    }
   ],
   "source": [
    "cv_results['test_score']"
   ]
  },
  {
   "cell_type": "code",
   "execution_count": 60,
   "metadata": {
    "id": "ggJ_xoVVYfHu"
   },
   "outputs": [
    {
     "data": {
      "text/plain": [
       "0.6005182065566624"
      ]
     },
     "execution_count": 60,
     "metadata": {},
     "output_type": "execute_result"
    }
   ],
   "source": [
    "cv_results['test_score'].mean()"
   ]
  },
  {
   "cell_type": "code",
   "execution_count": 78,
   "metadata": {
    "id": "TV0R2zpsYfHy"
   },
   "outputs": [
    {
     "name": "stdout",
     "output_type": "stream",
     "text": [
      "[56689.14499557 48747.76068534 54790.16740463]\n"
     ]
    },
    {
     "data": {
      "text/plain": [
       "53409.02436184533"
      ]
     },
     "execution_count": 78,
     "metadata": {},
     "output_type": "execute_result"
    }
   ],
   "source": [
    "from sklearn.metrics import make_scorer\n",
    "mae_scorer = make_scorer(mean_absolute_error)\n",
    "cv_results = cross_validate(regmodel, X, y, cv=3, scoring=mae_scorer, return_train_score=False)\n",
    "print(cv_results['test_score'])\n",
    "cv_results['test_score'].mean()"
   ]
  },
  {
   "cell_type": "markdown",
   "metadata": {
    "id": "ZiS4UFJLYfH0"
   },
   "source": [
    "So, there you go, we now have slightly lower $\\text{R}^2$ results, and slightly higher MAE than before, after we did a thorough cross-validation so that all data samples were tested at least once.\n",
    "\n",
    "You may check out the the list of [linear models](https://scikit-learn.org/stable/modules/classes.html#module-sklearn.linear_model) in scikit-learn (some for regression, some for classification). Other popular choices for regression are Ridge, Lasso and ElasticNet."
   ]
  },
  {
   "cell_type": "markdown",
   "metadata": {
    "id": "14KNZsJ_YfH1"
   },
   "source": [
    "### Classification\n",
    "\n",
    "Let's use the dataset again for the purpose of classification.\n",
    "\n",
    "A Question you would ask could be like: \n",
    "\n",
    "Can we predict the proximity of a house to the ocean given that we know the other attributes (such as median house value, median income, number of bedrooms, etc.) ?"
   ]
  },
  {
   "cell_type": "code",
   "execution_count": null,
   "metadata": {
    "id": "Kb7lsWqNYfH2"
   },
   "outputs": [],
   "source": [
    "housing['ocean_proximity'].value_counts()"
   ]
  },
  {
   "cell_type": "markdown",
   "metadata": {
    "id": "EGOvzWXRYfH5"
   },
   "source": [
    "We have 5 entries (label 2) which corresponds to 'ISLAND'. Perhaps there's not many housing on the islands of the Californian coast. We will not be able to build any model to predict this category with so little data. Let's discard it."
   ]
  },
  {
   "cell_type": "code",
   "execution_count": null,
   "metadata": {
    "id": "CtXz9DZYYfH5"
   },
   "outputs": [],
   "source": [
    "housing3 = housing[housing['ocean_proximity']!=2]"
   ]
  },
  {
   "cell_type": "code",
   "execution_count": null,
   "metadata": {
    "id": "mbg2TfdVYfH9"
   },
   "outputs": [],
   "source": [
    "housing3['ocean_proximity'].value_counts()"
   ]
  },
  {
   "cell_type": "markdown",
   "metadata": {
    "id": "yadO0qN_YfIB"
   },
   "source": [
    "If you intend to transform back the numerical categories to get the actual discrete categories, you can use `inverse_transform` of the `LabelEncoder` we created earlier. Otherwise, it is fine to leave it as numerical categories."
   ]
  },
  {
   "cell_type": "code",
   "execution_count": null,
   "metadata": {
    "id": "fPl0iDgrYfIC"
   },
   "outputs": [],
   "source": [
    "# use the label encoder created earlier to transform backwards these numbers to get the actual labels\n",
    "encoder.inverse_transform(housing3['ocean_proximity'].unique())"
   ]
  },
  {
   "cell_type": "markdown",
   "metadata": {
    "id": "abqTqL4pYfIF"
   },
   "source": [
    "Let's now form a new bunch of variables (XX) and response (yy) according to this classification problem."
   ]
  },
  {
   "cell_type": "code",
   "execution_count": null,
   "metadata": {
    "id": "TfiPmWA8YfIF"
   },
   "outputs": [],
   "source": [
    "XX = housing3.drop(\"ocean_proximity\", axis=1)     # drop labels from original data\n",
    "yy = housing3[\"ocean_proximity\"].copy()    # copy the labels to another dataframe/series"
   ]
  },
  {
   "cell_type": "code",
   "execution_count": null,
   "metadata": {
    "id": "acAMTkwMYfII"
   },
   "outputs": [],
   "source": [
    "from sklearn.linear_model import LogisticRegression"
   ]
  },
  {
   "cell_type": "markdown",
   "metadata": {
    "id": "-FRS2H7YYfIN"
   },
   "source": [
    "Our choice of classification algorithm is the **Logistic Regression**. The logistic regression is fundamentally derived from regression models, but due to the nature of using a *logistic function*, it functions like a classifier, giving almost binary decisions (close to 1 or 0) to predictions. So, this makes it more a classifier than a regressor."
   ]
  },
  {
   "cell_type": "code",
   "execution_count": null,
   "metadata": {
    "id": "nOekXZmHYfIN"
   },
   "outputs": [],
   "source": [
    "lr_model = LogisticRegression()"
   ]
  },
  {
   "cell_type": "code",
   "execution_count": null,
   "metadata": {
    "id": "S44c1m_JYfIR",
    "scrolled": true
   },
   "outputs": [],
   "source": [
    "cv_model = cross_validate(lr_model, XX, yy, cv=3, return_estimator=True, return_train_score=True, verbose=2)"
   ]
  },
  {
   "cell_type": "code",
   "execution_count": 74,
   "metadata": {
    "id": "w004JOQWtBHD"
   },
   "outputs": [
    {
     "data": {
      "text/plain": [
       "{'fit_time': array([0.57155275, 0.57927513, 0.59656286]),\n",
       " 'score_time': array([0.00412846, 0.00431895, 0.00311375]),\n",
       " 'estimator': [LogisticRegression(),\n",
       "  LogisticRegression(),\n",
       "  LogisticRegression()],\n",
       " 'test_score': array([0.53010279, 0.52386547, 0.53238361]),\n",
       " 'train_score': array([0.52048759, 0.51097731, 0.56046699])}"
      ]
     },
     "execution_count": 74,
     "metadata": {},
     "output_type": "execute_result"
    }
   ],
   "source": [
    "cv_model"
   ]
  },
  {
   "cell_type": "code",
   "execution_count": 75,
   "metadata": {
    "id": "GiwMjaHlYfIV"
   },
   "outputs": [
    {
     "name": "stdout",
     "output_type": "stream",
     "text": [
      "[0.52048759 0.51097731 0.56046699]\n",
      "0.5306439652345976\n",
      "[0.53010279 0.52386547 0.53238361]\n",
      "0.5287839573706362\n"
     ]
    }
   ],
   "source": [
    "print(cv_model['train_score'])\n",
    "print(cv_model['train_score'].mean())\n",
    "print(cv_model['test_score'])\n",
    "print(cv_model['test_score'].mean())"
   ]
  },
  {
   "cell_type": "markdown",
   "metadata": {
    "id": "8ddQKkzfYfIY"
   },
   "source": [
    "Note that there is no mention what this \"score\" is but it depends on the algorithm used. Since we are using a classifier, it is likely to be an Accuracy metric by default, but of course the scorer is customizable as we saw earlier. If unsure, go to [here](https://scikit-learn.org/stable/modules/generated/sklearn.linear_model.LogisticRegression.html#sklearn.linear_model.LogisticRegression) and check out the documentation."
   ]
  },
  {
   "cell_type": "markdown",
   "metadata": {
    "id": "t2lmEjCjYfIZ"
   },
   "source": [
    "**How well did the logistic regression classifier perform?**\n",
    "\n",
    "We got an accuracy of ~52% (this varies since we did not use a fixed seed to split the data). Since this is a 4-category classification, we are expecting a random prediction of 25%. So our accuracy is not too bad for a start! \n",
    "\n",
    "Notice also how the training score is higher than the test score. This is a common occurrence when doing machine learning. Typically, the trained model will fit better onto the training data (because it is seen anyway), and when applied to unseen test data, it will generally perform less accurately."
   ]
  },
  {
   "cell_type": "markdown",
   "metadata": {
    "id": "BfL4VeffYfIa"
   },
   "source": [
    "To pick the best estimator, we can simply look at the 3 models from the 3 folds and take the one which gave the best test score. Modify accordingly."
   ]
  },
  {
   "cell_type": "code",
   "execution_count": 77,
   "metadata": {
    "id": "Uz6uTe-KYfIa",
    "scrolled": true
   },
   "outputs": [
    {
     "data": {
      "text/plain": [
       "LogisticRegression()"
      ]
     },
     "execution_count": 77,
     "metadata": {},
     "output_type": "execute_result"
    }
   ],
   "source": [
    "cv_model['estimator'][2]  # 2 is the index for the third fold's model, return the Logistic Regression object corresponding to the index"
   ]
  },
  {
   "cell_type": "markdown",
   "metadata": {
    "id": "JPO-XYthYfIe"
   },
   "source": [
    "Now this model can now be deployed to classify future data that will be collected."
   ]
  },
  {
   "cell_type": "markdown",
   "metadata": {
    "id": "XY7nYcKDYfIe"
   },
   "source": [
    "You may try a few other things:\n",
    "\n",
    "**Q3**:\n",
    "Use other classifiers to see if you can improve on the classification performance. Here are some options:  [`KNeighborsClassifier`](https://scikit-learn.org/stable/modules/generated/sklearn.neighbors.KNeighborsClassifier.html), [`SVM`](https://scikit-learn.org/stable/modules/generated/sklearn.svm.SVC.html), [`MultiLayer Perceptron (MLP)`](https://scikit-learn.org/stable/modules/generated/sklearn.neural_network.MLPClassifier.html). The workflow is the same, with only the change in algorithm.\n"
   ]
  },
  {
   "cell_type": "code",
   "execution_count": 85,
   "metadata": {
    "id": "LKkRRebnYfIf"
   },
   "outputs": [
    {
     "name": "stderr",
     "output_type": "stream",
     "text": [
      "[Parallel(n_jobs=1)]: Using backend SequentialBackend with 1 concurrent workers.\n"
     ]
    },
    {
     "name": "stdout",
     "output_type": "stream",
     "text": [
      "[CV] END .................................................... total time=   0.4s\n"
     ]
    },
    {
     "name": "stderr",
     "output_type": "stream",
     "text": [
      "[Parallel(n_jobs=1)]: Done   1 out of   1 | elapsed:    1.3s remaining:    0.0s\n"
     ]
    },
    {
     "name": "stdout",
     "output_type": "stream",
     "text": [
      "[CV] END .................................................... total time=   0.4s\n",
      "[CV] END .................................................... total time=   0.3s\n"
     ]
    },
    {
     "name": "stderr",
     "output_type": "stream",
     "text": [
      "[Parallel(n_jobs=1)]: Done   3 out of   3 | elapsed:    3.6s finished\n"
     ]
    },
    {
     "data": {
      "text/plain": [
       "{'fit_time': array([0.02552485, 0.0290885 , 0.0236671 ]),\n",
       " 'score_time': array([0.41387749, 0.37885356, 0.32534003]),\n",
       " 'estimator': [KNeighborsClassifier(n_neighbors=3),\n",
       "  KNeighborsClassifier(n_neighbors=3),\n",
       "  KNeighborsClassifier(n_neighbors=3)],\n",
       " 'test_score': array([0.57562408, 0.5505948 , 0.57512116]),\n",
       " 'train_score': array([0.73718608, 0.73786622, 0.73353403])}"
      ]
     },
     "execution_count": 85,
     "metadata": {},
     "output_type": "execute_result"
    }
   ],
   "source": [
    "from sklearn.neighbors import KNeighborsClassifier\n",
    "\n",
    "Xknc = housing3.drop(\"ocean_proximity\", axis=1)     # drop labels from original data\n",
    "yknc = housing3[\"ocean_proximity\"].copy()    # copy the labels to another dataframe/series\n",
    "\n",
    "knc_model = KNeighborsClassifier(n_neighbors=3)\n",
    "knc_cv_model = cross_validate(knc_model, Xknc, yknc, cv=3, return_estimator=True, return_train_score=True, verbose=2)"
   ]
  },
  {
   "cell_type": "code",
   "execution_count": 86,
   "metadata": {},
   "outputs": [
    {
     "data": {
      "text/plain": [
       "{'fit_time': array([0.02552485, 0.0290885 , 0.0236671 ]),\n",
       " 'score_time': array([0.41387749, 0.37885356, 0.32534003]),\n",
       " 'estimator': [KNeighborsClassifier(n_neighbors=3),\n",
       "  KNeighborsClassifier(n_neighbors=3),\n",
       "  KNeighborsClassifier(n_neighbors=3)],\n",
       " 'test_score': array([0.57562408, 0.5505948 , 0.57512116]),\n",
       " 'train_score': array([0.73718608, 0.73786622, 0.73353403])}"
      ]
     },
     "execution_count": 86,
     "metadata": {},
     "output_type": "execute_result"
    }
   ],
   "source": [
    "knc_cv_model"
   ]
  },
  {
   "cell_type": "markdown",
   "metadata": {
    "id": "oW8gqHtrYfIj"
   },
   "source": [
    "**Q4**:\n",
    "Perform classification (without cross-validation) and display the confusion matrix (Hint: [`confusion_matrix`](https://scikit-learn.org/stable/modules/generated/sklearn.metrics.confusion_matrix.html) function or [`plot_confusion_matrix`](https://scikit-learn.org/stable/modules/generated/sklearn.metrics.plot_confusion_matrix.html#sklearn.metrics.plot_confusion_matrix) for a nicer visualization). From the confusion matrix, you will get to see which classes are performing well and which are not."
   ]
  },
  {
   "cell_type": "code",
   "execution_count": 27,
   "metadata": {
    "id": "9Mxv34jpYfIj"
   },
   "outputs": [],
   "source": [
    "# I use logistic regression as the classification algorithm\n",
    "from sklearn import metrics\n",
    "lr_model2 = LogisticRegression()\n",
    "XX2 = housing3.drop(\"ocean_proximity\", axis=1)     # drop labels from original data\n",
    "yy2 = housing3[\"ocean_proximity\"].copy()    # copy the labels to another dataframe/series\n"
   ]
  },
  {
   "cell_type": "code",
   "execution_count": null,
   "metadata": {},
   "outputs": [],
   "source": [
    "X_train, X_test, y_train, y_test = train_test_split(XX2, yy2, random_state=1)\n",
    "lr_model2.fit(X_train,y_train)\n",
    "print(\"babi\")"
   ]
  },
  {
   "cell_type": "markdown",
   "metadata": {
    "id": "qLT7VsBnYfIn"
   },
   "source": [
    "### \"Pickle\" it\n",
    "\n",
    "You can save the model in scikit-learn using Python's built-in persistence model, called `pickle`. Think of how food can be preserved by the 'pickling' process. :)"
   ]
  },
  {
   "cell_type": "code",
   "execution_count": null,
   "metadata": {
    "id": "q8ykozqrYfIo"
   },
   "outputs": [],
   "source": [
    "import pickle\n",
    "\n",
    "best_model = cv_model['estimator'][2]\n",
    "\n",
    "with open('model.pkl', 'wb') as file:\n",
    "    pickle.dump(best_model, file)"
   ]
  },
  {
   "cell_type": "markdown",
   "metadata": {
    "id": "VMXLtl0KYfIq"
   },
   "source": [
    "Check your directory (or you can just click on the folder icon in Colab) to see if the pickle file has been created. It's just a little over 1KB, very small!"
   ]
  },
  {
   "cell_type": "code",
   "execution_count": null,
   "metadata": {
    "id": "XnWt0uV4YfIr"
   },
   "outputs": [],
   "source": [
    "!dir"
   ]
  },
  {
   "cell_type": "code",
   "execution_count": null,
   "metadata": {
    "id": "tH_IqinYYfIt"
   },
   "outputs": [],
   "source": [
    "del best_model"
   ]
  },
  {
   "cell_type": "markdown",
   "metadata": {
    "id": "pvsIxrdlYfIw"
   },
   "source": [
    "When you need to load the model:"
   ]
  },
  {
   "cell_type": "code",
   "execution_count": null,
   "metadata": {
    "id": "AkPE3b6zYfIw"
   },
   "outputs": [],
   "source": [
    "with open('model.pkl', 'rb') as file:\n",
    "    loaded_model = pickle.load(file, encoding='bytes')"
   ]
  },
  {
   "cell_type": "code",
   "execution_count": null,
   "metadata": {
    "id": "iQtAoRHQYfIz",
    "scrolled": true
   },
   "outputs": [],
   "source": [
    "loaded_model.coef_"
   ]
  },
  {
   "cell_type": "markdown",
   "metadata": {
    "id": "caHjBSFDYfI1"
   },
   "source": [
    "## **Additional Task 1: Grid Search**\n",
    "\n",
    "Some algorithms have many \"free parameters\" that can be tuned to get better models. For example, the [LinearSVC](https://scikit-learn.org/stable/modules/generated/sklearn.svm.LinearSVC.html#sklearn.svm.LinearSVC) or Linear Support Vector Classifier has parameters like the `loss`, `penalty`, `C`, etc. which can influence how the model is fitted. So, in order to fully test which parameter, or combination of parameters works the best for your data, you can use `GridSearchCV` (documentation [here](https://scikit-learn.org/stable/modules/generated/sklearn.model_selection.GridSearchCV.html?highlight=gridsearchcv#sklearn.model_selection.GridSearchCV)) which searches through all possible combinations of the parameters from a defined list of values."
   ]
  },
  {
   "cell_type": "code",
   "execution_count": null,
   "metadata": {
    "id": "yRoxNJSiYfI1",
    "scrolled": true
   },
   "outputs": [],
   "source": [
    "from sklearn.model_selection import GridSearchCV\n",
    "\n",
    "svc = LogisticRegression(random_state=0)\n",
    "parameters = {'penalty':('l1','l2'), 'C':[0.1, 1, 10, 100, 1000]}   # define the parameters and their value sets\n",
    "clf = GridSearchCV(svc, parameters, verbose=2)\n",
    "clf.fit(XX, yy)"
   ]
  },
  {
   "cell_type": "markdown",
   "metadata": {
    "id": "Yn_vPlikYfI4"
   },
   "source": [
    "To obtain the best fitted model, use `best_estimator_` function. To obtain all cross validated results, use `cv_results_`"
   ]
  },
  {
   "cell_type": "code",
   "execution_count": null,
   "metadata": {
    "id": "xLqN5lkOYfI4",
    "scrolled": true
   },
   "outputs": [],
   "source": [
    "clf.best_estimator_"
   ]
  },
  {
   "cell_type": "code",
   "execution_count": null,
   "metadata": {
    "id": "mbZI7hvvwkGh"
   },
   "outputs": [],
   "source": [
    "clf.best_params_"
   ]
  },
  {
   "cell_type": "code",
   "execution_count": null,
   "metadata": {
    "id": "mK5XYu6KYfI6"
   },
   "outputs": [],
   "source": [
    "clf.cv_results_"
   ]
  },
  {
   "cell_type": "markdown",
   "metadata": {
    "id": "iZdBBdQeYfI9"
   },
   "source": [
    "## **Additional Task 2: Spyder**\n",
    "\n",
    "With many overlapping lines of code in Jupyter, sometimes you may prefer to put all the essential code (minus away all those that are usually for testing purposes) into a .py file. Spyder is an IDE that comes with Anaconda and you can use it to run your .py file or even larger projects with multiple files. "
   ]
  }
 ],
 "metadata": {
  "colab": {
   "collapsed_sections": [],
   "name": "lab08.ipynb",
   "provenance": []
  },
  "kernelspec": {
   "display_name": "Python 3 (ipykernel)",
   "language": "python",
   "name": "python3"
  },
  "language_info": {
   "codemirror_mode": {
    "name": "ipython",
    "version": 3
   },
   "file_extension": ".py",
   "mimetype": "text/x-python",
   "name": "python",
   "nbconvert_exporter": "python",
   "pygments_lexer": "ipython3",
   "version": "3.9.7"
  }
 },
 "nbformat": 4,
 "nbformat_minor": 1
}
